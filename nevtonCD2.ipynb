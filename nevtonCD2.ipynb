{
 "cells": [
  {
   "cell_type": "markdown",
   "metadata": {},
   "source": [
    "# Projeto 2 - Ciência dos Dados"
   ]
  },
  {
   "cell_type": "markdown",
   "metadata": {},
   "source": [
    "Nome: Nevton de Castro\n",
    "\n",
    "Nome: Omar Dibo\n",
    "\n",
    "Nome: Laura Perim "
   ]
  },
  {
   "cell_type": "markdown",
   "metadata": {},
   "source": [
    "Serão permitidos grupos de três pessoas, mas com uma rubrica mais exigente. Grupos deste tamanho precisarão fazer um questionário de avaliação de trabalho em equipe"
   ]
  },
  {
   "cell_type": "markdown",
   "metadata": {},
   "source": [
    "___\n",
    "# Classificador automático de sentimento\n"
   ]
  },
  {
   "cell_type": "markdown",
   "metadata": {},
   "source": [
    "## Preparando o ambiente no jupyter:"
   ]
  },
  {
   "cell_type": "code",
   "execution_count": 506,
   "metadata": {},
   "outputs": [],
   "source": [
    "%%capture\n",
    "\n",
    "#Instalando o tweepy\n",
    "!pip install tweepy"
   ]
  },
  {
   "cell_type": "code",
   "execution_count": 507,
   "metadata": {
    "jupyter": {
     "outputs_hidden": true
    }
   },
   "outputs": [],
   "source": [
    "import tweepy\n",
    "import math\n",
    "import os.path\n",
    "import pandas as pd\n",
    "import json\n",
    "import re\n",
    "from random import shuffle"
   ]
  },
  {
   "cell_type": "markdown",
   "metadata": {},
   "source": [
    "___\n",
    "## Autenticando no  Twitter\n",
    "\n",
    "* Conta: ***@Devsegundoseme1***"
   ]
  },
  {
   "cell_type": "code",
   "execution_count": 508,
   "metadata": {
    "jupyter": {
     "outputs_hidden": true
    }
   },
   "outputs": [],
   "source": [
    "#Dados de autenticação do twitter: authpass\n",
    "\n",
    "#Coloque aqui o identificador da conta no twitter: @Devsegundoseme1\n",
    "\n",
    "#leitura do arquivo no formato JSON\n",
    "with open('auth.pass') as fp:   \n",
    "    data = json.load(fp)\n",
    "    \n",
    "#Configurando a biblioteca. Não modificar\n",
    "auth = tweepy.OAuthHandler(data['consumer_key'], data['consumer_secret'])\n",
    "auth.set_access_token(data['access_token'], data['access_token_secret'])"
   ]
  },
  {
   "cell_type": "markdown",
   "metadata": {},
   "source": [
    "___\n",
    "## Etapas do projeto:"
   ]
  },
  {
   "cell_type": "markdown",
   "metadata": {},
   "source": [
    "### Escolha de um produto e coleta das mensagens\n"
   ]
  },
  {
   "cell_type": "code",
   "execution_count": 509,
   "metadata": {
    "jupyter": {
     "outputs_hidden": true
    }
   },
   "outputs": [],
   "source": [
    "#Produto escolhido:\n",
    "produto = 'civic'\n",
    "\n",
    "#Quantidade mínima de mensagens capturadas:\n",
    "n = 750\n",
    "#Quantidade mínima de mensagens para a base de treinamento:\n",
    "t = 500\n",
    "\n",
    "#Filtro de língua, escolha uma na tabela ISO 639-1.\n",
    "lang = 'pt'"
   ]
  },
  {
   "cell_type": "markdown",
   "metadata": {},
   "source": [
    "Capturando os dados do twitter:"
   ]
  },
  {
   "cell_type": "code",
   "execution_count": 510,
   "metadata": {
    "jupyter": {
     "outputs_hidden": true
    }
   },
   "outputs": [],
   "source": [
    "#Cria um objeto para a captura\n",
    "api = tweepy.API(auth)\n",
    "\n",
    "#Inicia a captura, para mais detalhes: ver a documentação do tweepy\n",
    "i = 1\n",
    "msgs = []\n",
    "for msg in tweepy.Cursor(api.search, q=produto, lang=lang, tweet_mode=\"extended\").items():    \n",
    "    if msg.full_text.lower()[0] != 'r' and msg.full_text.lower()[1] != 't' and msg.full_text.lower()[2] != ' ':\n",
    "        msgs.append(msg.full_text.lower())\n",
    "        i += 1\n",
    "        if i > n:\n",
    "                break\n",
    "\n",
    "#Embaralhando as mensagens para reduzir um possível viés\n",
    "shuffle(msgs)"
   ]
  },
  {
   "cell_type": "markdown",
   "metadata": {},
   "source": [
    "Salvando os dados em uma planilha Excel:"
   ]
  },
  {
   "cell_type": "code",
   "execution_count": 511,
   "metadata": {
    "jupyter": {
     "outputs_hidden": true
    }
   },
   "outputs": [],
   "source": [
    "#Verifica se o arquivo não existe para não substituir um conjunto pronto\n",
    "if not os.path.isfile('./{0}.xlsx'.format(produto)):\n",
    "    \n",
    "    #Abre o arquivo para escrita\n",
    "    writer = pd.ExcelWriter('{0}.xlsx'.format(produto))\n",
    "\n",
    "    #divide o conjunto de mensagens em duas planilhas\n",
    "    dft = pd.DataFrame({'Treinamento' : pd.Series(msgs1[:n])})\n",
    "    dft.to_excel(excel_writer = writer, sheet_name = 'Treinamento', index = False)\n",
    "\n",
    "    dfc = pd.DataFrame({'Teste' : pd.Series(msgs1[n:])})\n",
    "    dfc.to_excel(excel_writer = writer, sheet_name = 'Teste', index = False)\n",
    "\n",
    "    #fecha o arquivo\n",
    "    writer.save()\n",
    "\n"
   ]
  },
  {
   "cell_type": "markdown",
   "metadata": {},
   "source": [
    "___\n",
    "### Classificando as mensagens na coragem\n",
    "\n",
    "Esta etapa é manual. Faça a mesma pelo Excel."
   ]
  },
  {
   "cell_type": "code",
   "execution_count": 556,
   "metadata": {},
   "outputs": [],
   "source": [
    "civic = pd.read_excel('civic.xlsx')\n",
    "spm1 = civic[civic.valor==0] #tweets de spam ou venda\n",
    "irr1 = civic[civic.valor==1] #tweets irrelevantes\n",
    "rel1 = civic[civic.valor==2] #tweets de elogios ou criticas\n",
    "irr = irr1['Treinamento'].tolist()\n",
    "rel = rel1['Treinamento'].tolist()\n",
    "spm = spm1['Treinamento'].tolist()"
   ]
  },
  {
   "cell_type": "code",
   "execution_count": 557,
   "metadata": {},
   "outputs": [
    {
     "data": {
      "text/plain": [
       "1    538\n",
       "Name: valor, dtype: int64"
      ]
     },
     "execution_count": 557,
     "metadata": {},
     "output_type": "execute_result"
    }
   ],
   "source": [
    "spm1.valor.value_counts() #40\n",
    "rel1.valor.value_counts() #172\n",
    "irr1.valor.value_counts() #538"
   ]
  },
  {
   "cell_type": "code",
   "execution_count": 646,
   "metadata": {},
   "outputs": [
    {
     "data": {
      "text/plain": [
       "3737"
      ]
     },
     "execution_count": 646,
     "metadata": {},
     "output_type": "execute_result"
    }
   ],
   "source": [
    "\n",
    "\n"
   ]
  },
  {
   "cell_type": "markdown",
   "metadata": {},
   "source": [
    "___\n",
    "### Montando o Classificador Naive-Bayes\n",
    "\n",
    "Considerando apenas as mensagens da planilha Treinamento, ensine  seu classificador."
   ]
  },
  {
   "cell_type": "code",
   "execution_count": 521,
   "metadata": {},
   "outputs": [
    {
     "data": {
      "text/plain": [
       "o          0.035815\n",
       "um         0.027767\n",
       "de         0.023340\n",
       "que        0.022938\n",
       "e          0.022938\n",
       "meu        0.018109\n",
       "é          0.017706\n",
       "honda      0.017706\n",
       "do         0.013280\n",
       "//t        0.011670\n",
       "https      0.011670\n",
       "eu         0.010463\n",
       "a          0.009658\n",
       "pra        0.008853\n",
       "na         0.008853\n",
       "carro      0.008853\n",
       "mais       0.008451\n",
       "não        0.008048\n",
       "com        0.007646\n",
       "corolla    0.007646\n",
       "Name: 0, dtype: float64"
      ]
     },
     "execution_count": 521,
     "metadata": {},
     "output_type": "execute_result"
    }
   ],
   "source": [
    "\n",
    "nop = []\n",
    "#nao vamos remover \"#\" nem \"|\"\n",
    "for i in rel:\n",
    "    punctuation = '[!\\-.:?;,_+]'\n",
    "    pattern = re.compile(punctuation)\n",
    "    text_subbed = re.sub(pattern, ' ', i.lower())\n",
    "    nop.append(text_subbed)\n",
    "\n",
    "\n",
    "clean = []\n",
    "for i in nop:     \n",
    "    trash = 'civic'\n",
    "    text_subbed = re.sub(trash, ' ', i)\n",
    "    clean.append(text_subbed)\n",
    "\n",
    "relfinal = []\n",
    "for i in clean:\n",
    "    e = pd.Series(i.split())\n",
    "    for i in e:\n",
    "        relfinal.append(i)\n",
    "df = pd.DataFrame(relfinal)\n",
    "reldata = df[0].value_counts(True)\n",
    "reldata.head(20)"
   ]
  },
  {
   "cell_type": "code",
   "execution_count": null,
   "metadata": {},
   "outputs": [],
   "source": [
    "nop2 = []\n",
    "for i in irr:     \n",
    "    punctuation = '[!\\-.:?;,_\\+]'\n",
    "    pattern = re.compile(punctuation)\n",
    "    text_subbed = re.sub(pattern, ' ', i.lower())\n",
    "    nop2.append(text_subbed)\n",
    "\n",
    "\n",
    "clean2 = []\n",
    "for i in nop2:     \n",
    "    trash = 'civic'\n",
    "    text_subbed = re.sub(trash, ' ', i)\n",
    "    clean2.append(text_subbed)\n",
    "\n",
    "\n",
    "relfinal2 = []\n",
    "for i in clean2:\n",
    "    e = pd.Series(i.split())\n",
    "    for i in e:\n",
    "        relfinal2.append(i)\n",
    "df2 = pd.DataFrame(relfinal2)\n",
    "irrdata = df2[0].value_counts(True)\n",
    "irrdata.head(20)"
   ]
  },
  {
   "cell_type": "code",
   "execution_count": null,
   "metadata": {},
   "outputs": [],
   "source": [
    "\n",
    "nop3 = []\n",
    "#nao vamos remover \"#\" nem \"|\"\n",
    "for i in spm:     \n",
    "    punctuation = '[!\\-.:?;,_\\+]'\n",
    "    pattern = re.compile(punctuation)\n",
    "    text_subbed = re.sub(pattern, ' ', i.lower())\n",
    "    nop3.append(text_subbed)\n",
    "\n",
    "clean3 = []\n",
    "for i in nop3:     \n",
    "    trash = 'civic'\n",
    "    text_subbed = re.sub(trash, ' ', i)\n",
    "    clean3.append(text_subbed)\n",
    "\n",
    "relfinal3 = []\n",
    "for i in clean3:\n",
    "    e = pd.Series(i.split())\n",
    "    for i in e:\n",
    "        relfinal3.append(i)\n",
    "df3 = pd.DataFrame(relfinal3)\n",
    "spmdata = df3[0].value_counts(True)\n",
    "spmdata['https']"
   ]
  },
  {
   "cell_type": "code",
   "execution_count": null,
   "metadata": {},
   "outputs": [],
   "source": [
    "l=['a','b','c','d','e','f']\n",
    "t=['e','r','t','y','u','i']\n",
    "for i in l, t:\n",
    "    print(i)"
   ]
  },
  {
   "cell_type": "code",
   "execution_count": 649,
   "metadata": {},
   "outputs": [],
   "source": [
    "#corno smoothing\n",
    "k = []\n",
    "oi = civic['Treinamento'].tolist()\n",
    "\n",
    "for i in oi:\n",
    "    \n",
    "    \n",
    "    s = i.split()\n",
    "    \n",
    "    for t in s:\n",
    "        \n",
    "        k.append(i)\n",
    "\n",
    "a = list(set(k))\n",
    "td = len(a)\n",
    "\n",
    "k=[]\n",
    "for i in clean:\n",
    "    s = i.split()\n",
    "    for t in s:\n",
    "        k.append(i)\n",
    "        \n",
    "tdrel = len(k)\n",
    "\n",
    "k=[]\n",
    "for i in clean2:\n",
    "    s = i.split()\n",
    "    for t in s:\n",
    "        k.append(i)\n",
    "        \n",
    "tdirr = len(k)\n",
    "\n",
    "k=[]\n",
    "for i in clean3:\n",
    "    s = i.split()\n",
    "    for t in s:\n",
    "        k.append(i)\n",
    "        \n",
    "tdspm = len(k)\n"
   ]
  },
  {
   "cell_type": "markdown",
   "metadata": {},
   "source": [
    "___\n",
    "### Verificando a performance\n",
    "\n",
    "Agora você deve testar o seu classificador com a base de Testes."
   ]
  },
  {
   "cell_type": "code",
   "execution_count": 613,
   "metadata": {},
   "outputs": [],
   "source": [
    "lista =[]\n",
    "d=-1\n",
    "for i in clean:\n",
    "    t=1\n",
    "    \n",
    "    e = pd.Series(i.split())\n",
    "    \n",
    "    for w in e:\n",
    "        \n",
    "        if w in df[0].tolist():\n",
    "            r=reldata[w]\n",
    "        else:\n",
    "            r=0\n",
    "        t = r*t\n",
    "    t*(172/750)\n",
    "    o=[]\n",
    "    o.append(t)\n",
    "    lista.append(o)\n",
    "    \n",
    "d = -1\n",
    "for i in clean:\n",
    "    t =1\n",
    "    d =d+1\n",
    "    e = pd.Series(i.split())\n",
    "    for w in e:\n",
    "        if w in df2[0].tolist():\n",
    "            r = irrdata[w]\n",
    "        else:\n",
    "            r=0\n",
    "        t = r*t\n",
    "    t*(538/750)\n",
    "    lista[d].append(t)\n",
    "    \n",
    "d = -1\n",
    "for i in clean:\n",
    "    t =1\n",
    "    d =d+1\n",
    "    e = pd.Series(i.split())\n",
    "    for w in e:\n",
    "        if w in df3[0].tolist():\n",
    "            r = spmdata[w]\n",
    "        else:\n",
    "            r=0\n",
    "        t = r*t\n",
    "    t*(40/750)\n",
    "    lista[d].append(t)\n",
    "qual=[]\n",
    "m=-1\n",
    "for i in lista:\n",
    "    m=m+1\n",
    "    if (lista[m][0] > lista[m][1]) and (lista[m][0] > lista[m][2]):\n",
    "        qual.append('relevante')\n",
    "    if (lista[m][1] > lista[m][0]) and (lista[m][1] > lista[m][2]):\n",
    "        qual.append('irrelevante')\n",
    "    if (lista[m][2] > lista[m][0]) and (lista[m][2] > lista[m][1]):\n",
    "        qual.append('spam')\n"
   ]
  },
  {
   "cell_type": "code",
   "execution_count": 614,
   "metadata": {},
   "outputs": [],
   "source": [
    "lista =[]\n",
    "\n",
    "d=-1\n",
    "for i in clean2:\n",
    "    t=1\n",
    "    \n",
    "    e = pd.Series(i.split())\n",
    "    \n",
    "    for w in e:\n",
    "        \n",
    "        if w in df[0].tolist():\n",
    "            r=reldata[w]\n",
    "        else:\n",
    "            r=0\n",
    "        t = r*t\n",
    "    t*(172/750)\n",
    "    o=[]\n",
    "    o.append(t)\n",
    "    lista.append(o)\n",
    "\n",
    "\n",
    "d = -1\n",
    "for i in clean2:\n",
    "    t =1\n",
    "    d =d+1\n",
    "    e = pd.Series(i.split())\n",
    "    for w in e:\n",
    "        if w in df2[0].tolist():\n",
    "            r = irrdata[w]\n",
    "        else:\n",
    "            r=0\n",
    "        t = r*t\n",
    "    t*(538/750)\n",
    "    lista[d].append(t)\n",
    "    \n",
    "d = -1\n",
    "for i in clean2:\n",
    "    t =1\n",
    "    d =d+1\n",
    "    e = pd.Series(i.split())\n",
    "    for w in e:\n",
    "        if w in df3[0].tolist():\n",
    "            r = spmdata[w]\n",
    "        else:\n",
    "            r=0\n",
    "        t = r*t\n",
    "    t*(40/750)\n",
    "    lista[d].append(t)\n",
    "qual=[]\n",
    "m=-1\n",
    "for i in lista:\n",
    "    m=m+1\n",
    "    if (lista[m][0] > lista[m][1]) and (lista[m][0] > lista[m][2]):\n",
    "        qual.append('relevante')\n",
    "    if (lista[m][1] > lista[m][0]) and (lista[m][1] > lista[m][2]):\n",
    "        qual.append('irrelevante')\n",
    "    if (lista[m][2] > lista[m][0]) and (lista[m][2] > lista[m][1]):\n",
    "        qual.append('spam')\n",
    "    \n"
   ]
  },
  {
   "cell_type": "code",
   "execution_count": 615,
   "metadata": {},
   "outputs": [],
   "source": [
    "lista =[]\n",
    "\n",
    "d=-1\n",
    "for i in clean3:\n",
    "    t=1\n",
    "    \n",
    "    e = pd.Series(i.split())\n",
    "    \n",
    "    for w in e:\n",
    "        \n",
    "        if w in df[0].tolist():\n",
    "            r=reldata[w]\n",
    "        else:\n",
    "            r=0\n",
    "        t = r*t\n",
    "    t*(172/750)\n",
    "    o=[]\n",
    "    o.append(t)\n",
    "    lista.append(o)\n",
    "\n",
    "\n",
    "d = -1\n",
    "for i in clean3:\n",
    "    t =1\n",
    "    d =d+1\n",
    "    e = pd.Series(i.split())\n",
    "    for w in e:\n",
    "        if w in df2[0].tolist():\n",
    "            r = irrdata[w]\n",
    "        else:\n",
    "            r=0\n",
    "        t = r*t\n",
    "    t*(538/750)\n",
    "    lista[d].append(t)\n",
    "    \n",
    "d = -1\n",
    "for i in clean3:\n",
    "    t =1\n",
    "    d =d+1\n",
    "    e = pd.Series(i.split())\n",
    "    for w in e:\n",
    "        if w in df3[0].tolist():\n",
    "            r = spmdata[w]\n",
    "        else:\n",
    "            r=0\n",
    "        t = r*t\n",
    "    t*(40/750)\n",
    "    lista[d].append(t)\n",
    "qual=[]\n",
    "m=-1\n",
    "for i in lista:\n",
    "    m=m+1\n",
    "    if (lista[m][0] > lista[m][1]) and (lista[m][0] > lista[m][2]):\n",
    "        qual.append('relevante')\n",
    "    if (lista[m][1] > lista[m][0]) and (lista[m][1] > lista[m][2]):\n",
    "        qual.append('irrelevante')\n",
    "    if (lista[m][2] > lista[m][0]) and (lista[m][2] > lista[m][1]):\n",
    "        qual.append('spam')\n",
    "    \n"
   ]
  },
  {
   "cell_type": "code",
   "execution_count": 650,
   "metadata": {},
   "outputs": [
    {
     "data": {
      "text/plain": [
       "426"
      ]
     },
     "execution_count": 650,
     "metadata": {},
     "output_type": "execute_result"
    }
   ],
   "source": [
    "def p(tweets):\n",
    "    lista =[]\n",
    "    \n",
    "    d=-1\n",
    "    for i in tweets:\n",
    "        t=1\n",
    "\n",
    "        e = pd.Series(i.split())\n",
    "\n",
    "        for w in e:\n",
    "\n",
    "            if w in df[0].tolist():\n",
    "                r=reldata[w]\n",
    "            else:\n",
    "                r = 1/(tdrel + td)\n",
    "            t = r*t\n",
    "        t*(172/750)\n",
    "        o=[]\n",
    "        o.append(t)\n",
    "        lista.append(o)\n",
    "\n",
    "\n",
    "    d = -1\n",
    "    for i in tweets:\n",
    "        t =1\n",
    "        d =d+1\n",
    "        e = pd.Series(i.split())\n",
    "        for w in e:\n",
    "            if w in df2[0].tolist():\n",
    "                r = irrdata[w]\n",
    "            else:\n",
    "                r= 1/(tdirr + td)\n",
    "            t = r*t\n",
    "        t*(538/750)\n",
    "        lista[d].append(t)\n",
    "\n",
    "    d = -1\n",
    "    for i in tweets:\n",
    "        t =1\n",
    "        d =d+1\n",
    "        e = pd.Series(i.split())\n",
    "        for w in e:\n",
    "            if w in df3[0].tolist():\n",
    "                r = spmdata[w]\n",
    "            else:\n",
    "                r= 1/(tdspm+td)\n",
    "            t = r*t\n",
    "        t*(40/750)\n",
    "        lista[d].append(t)\n",
    "    qual=[]\n",
    "    m=-1\n",
    "    for i in lista:\n",
    "        m=m+1\n",
    "        if (lista[m][0] > lista[m][1]) and (lista[m][0] > lista[m][2]):\n",
    "            qual.append('relevante')\n",
    "        if (lista[m][1] > lista[m][0]) and (lista[m][1] > lista[m][2]):\n",
    "            qual.append('irrelevante')\n",
    "        if (lista[m][2] > lista[m][0]) and (lista[m][2] > lista[m][1]):\n",
    "            qual.append('spam')\n",
    "    return qual\n",
    "\n",
    "g=0\n",
    "b=0\n",
    "erros = 0\n",
    "for i in p(clean):\n",
    "    if i != 'relevante':\n",
    "        erros = erros+1\n",
    "\n",
    "for i in p(clean2):\n",
    "    if i != 'irrelevante':\n",
    "        erros = erros+1\n",
    "        if i == 'spam':\n",
    "            g=g+1\n",
    "        if i == 'relevante':\n",
    "            b=b+1\n",
    "\n",
    "\n",
    "for i in p(clean3):\n",
    "    if i != 'spam':\n",
    "        erros = erros+1\n",
    "\n",
    "erros"
   ]
  },
  {
   "cell_type": "code",
   "execution_count": 621,
   "metadata": {},
   "outputs": [
    {
     "data": {
      "text/plain": [
       "18"
      ]
     },
     "execution_count": 621,
     "metadata": {},
     "output_type": "execute_result"
    }
   ],
   "source": []
  },
  {
   "cell_type": "markdown",
   "metadata": {},
   "source": [
    "___\n",
    "### Concluindo"
   ]
  },
  {
   "cell_type": "code",
   "execution_count": null,
   "metadata": {},
   "outputs": [],
   "source": []
  },
  {
   "cell_type": "code",
   "execution_count": null,
   "metadata": {},
   "outputs": [],
   "source": []
  },
  {
   "cell_type": "markdown",
   "metadata": {},
   "source": [
    "## Aperfeiçoamento:\n",
    "\n",
    "Os trabalhos vão evoluir em conceito dependendo da quantidade de itens avançados:\n",
    "\n",
    "* Limpar: \\n, :, \", ', (, ), etc SEM remover emojis\n",
    "* Corrigir separação de espaços entre palavras e emojis ou emojis e emojis\n",
    "* Propor outras limpezas e transformações que não afetem a qualidade da informação ou classificação\n",
    "* Criar categorias intermediárias de relevância baseadas na probabilidade: ex.: muito relevante, relevante, neutro, irrelevante, muito irrelevante (3 categorias: C, mais categorias conta para B)\n",
    "* Explicar por que não posso usar o próprio classificador para gerar mais amostras de treinamento\n",
    "* Propor diferentes cenários para Naïve Bayes fora do contexto do projeto\n",
    "* Sugerir e explicar melhorias reais com indicações concretas de como implementar (indicar como fazer e indicar material de pesquisa)\n",
    "* Montar um dashboard que periodicamente realiza análise de sentimento e visualiza estes dados"
   ]
  },
  {
   "cell_type": "markdown",
   "metadata": {},
   "source": [
    "# Referências"
   ]
  },
  {
   "cell_type": "markdown",
   "metadata": {},
   "source": [
    "[Naive Bayes and Text Classification](https://arxiv.org/pdf/1410.5329.pdf)  **Mais completo**\n",
    "\n",
    "[A practical explanation of a Naive Bayes Classifier](https://monkeylearn.com/blog/practical-explanation-naive-bayes-classifier/) **Mais simples**"
   ]
  },
  {
   "cell_type": "code",
   "execution_count": null,
   "metadata": {},
   "outputs": [],
   "source": []
  }
 ],
 "metadata": {
  "kernelspec": {
   "display_name": "Python 3",
   "language": "python",
   "name": "python3"
  },
  "language_info": {
   "codemirror_mode": {
    "name": "ipython",
    "version": 3
   },
   "file_extension": ".py",
   "mimetype": "text/x-python",
   "name": "python",
   "nbconvert_exporter": "python",
   "pygments_lexer": "ipython3",
   "version": "3.7.1"
  }
 },
 "nbformat": 4,
 "nbformat_minor": 4
}
