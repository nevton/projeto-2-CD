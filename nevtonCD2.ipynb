{
 "cells": [
  {
   "cell_type": "markdown",
   "metadata": {},
   "source": [
    "# Projeto 2 - Ciência dos Dados"
   ]
  },
  {
   "cell_type": "markdown",
   "metadata": {},
   "source": [
    "Nome: Nevton de Castro\n",
    "\n",
    "Nome: _____"
   ]
  },
  {
   "cell_type": "markdown",
   "metadata": {},
   "source": [
    "Serão permitidos grupos de três pessoas, mas com uma rubrica mais exigente. Grupos deste tamanho precisarão fazer um questionário de avaliação de trabalho em equipe"
   ]
  },
  {
   "cell_type": "markdown",
   "metadata": {},
   "source": [
    "___\n",
    "# Classificador automático de sentimento\n"
   ]
  },
  {
   "cell_type": "markdown",
   "metadata": {},
   "source": [
    "## Preparando o ambiente no jupyter:"
   ]
  },
  {
   "cell_type": "code",
   "execution_count": 1,
   "metadata": {},
   "outputs": [],
   "source": [
    "%%capture\n",
    "\n",
    "#Instalando o tweepy\n",
    "!pip install tweepy"
   ]
  },
  {
   "cell_type": "code",
   "execution_count": 2,
   "metadata": {
    "jupyter": {
     "outputs_hidden": true
    }
   },
   "outputs": [],
   "source": [
    "import tweepy\n",
    "import math\n",
    "import os.path\n",
    "import pandas as pd\n",
    "import json\n",
    "from random import shuffle"
   ]
  },
  {
   "cell_type": "markdown",
   "metadata": {},
   "source": [
    "___\n",
    "## Autenticando no  Twitter\n",
    "\n",
    "* Conta: ***@Devsegundoseme1***"
   ]
  },
  {
   "cell_type": "code",
   "execution_count": 3,
   "metadata": {
    "jupyter": {
     "outputs_hidden": true
    }
   },
   "outputs": [],
   "source": [
    "#Dados de autenticação do twitter: ?\n",
    "\n",
    "#Coloque aqui o identificador da conta no twitter: @Devsegundoseme1\n",
    "\n",
    "#leitura do arquivo no formato JSON\n",
    "with open('auth.pass') as fp:   \n",
    "    data = json.load(fp)\n",
    "    \n",
    "#Configurando a biblioteca. Não modificar\n",
    "auth = tweepy.OAuthHandler(data['consumer_key'], data['consumer_secret'])\n",
    "auth.set_access_token(data['access_token'], data['access_token_secret'])"
   ]
  },
  {
   "cell_type": "markdown",
   "metadata": {},
   "source": [
    "___\n",
    "## Etapas do projeto:"
   ]
  },
  {
   "cell_type": "markdown",
   "metadata": {},
   "source": [
    "### Escolha de um produto e coleta das mensagens\n"
   ]
  },
  {
   "cell_type": "code",
   "execution_count": 7,
   "metadata": {
    "jupyter": {
     "outputs_hidden": true
    }
   },
   "outputs": [],
   "source": [
    "#Produto escolhido:\n",
    "produto = 'civic'\n",
    "\n",
    "#Quantidade mínima de mensagens capturadas:\n",
    "n = 500\n",
    "#Quantidade mínima de mensagens para a base de treinamento:\n",
    "t = 300\n",
    "\n",
    "#Filtro de língua, escolha uma na tabela ISO 639-1.\n",
    "lang = 'pt'"
   ]
  },
  {
   "cell_type": "markdown",
   "metadata": {},
   "source": [
    "Capturando os dados do twitter:"
   ]
  },
  {
   "cell_type": "code",
   "execution_count": 8,
   "metadata": {
    "jupyter": {
     "outputs_hidden": true
    }
   },
   "outputs": [
    {
     "name": "stdout",
     "output_type": "stream",
     "text": [
      "['vai rolar quando civic vs gti? — so chamar irmao https://t.co/cq6t1njcvf', 'kkkk manoo pai do meu camarada @vinicim1_  é o coroa mais descolado q eu frago o cara anda no civic ouvindo @npsidoka no máx kk', '@oklinframbers @civtorial é civic vamo sair sábado', '@nono_pereiraa damee então !!', 'você que é a nik do volvo? kkk — logo o leozin do civic falando isso, ah não kkkkkk https://t.co/hie42dibkz', 'o leonor de aparelho matou me ahahah 😂😂', 'mais um civic e um anão ok', 'passou um civic tunado na bala por mim de carro na la kkk fiquei oprimido', 'vejo a vida passar pelos olhos\\namigo tá sendo enquadrado pelo porco \\nmuita gente passando sufoco \\ntô no pique, na foto um click \\nreal underground no clipe \\n\\nvejo trabalhador vendendo pipoca \\ndepois do trabalho anda de honda civic', '@nono_pereiraa achas msm que ia fazer isso?\\nmas se me deres dps um dia convido te a vir a minha casa comer arroz de pato 😂😂', 'sim, é de menina! new civic aro 18 suspensão fixa *motivacional*\\nhttps://t.co/vwzphehjy9', '@hgbdstn @homemfeminino @rudriek liga o motor do civic vamo pra curitiba resgatar reymar', 'alcemar xingando civic é o melhor vídeo do mundo', 'será que essa loucura que vou fazer vai ser maior doque ter comprado o civic ?', 'puts o novo corolla é hybrid e flex indo totalmente contra o civic q adotou motorização turbo.... toyota nunca te critiquei', 'agora eu posso afirmar que em questão de design o corolla 2020 vai brigar de igual com o civic', 'sonhei que minha namorada tinha me dado um civic, acordei não tinha carro e nem existia namorada kkkkk', 'tem alguma meta pra esse ano ? — civic 2008 ar 0,0 🤢🤢🤢 https://t.co/ueb8x2cmxb', '@jcarlos_46 vão até:\\ncorolla 2020: 124.990\\ncivic 2020: 134.900\\ngolf 2019: 143.790', '@pedrohdemarchi8 @enzo_zbr honda civic dourado com verde? vc sabe sim', '@rodrigostochero já aconteceu no civic de um amigo hehe', '@vicktres3 um civic é um civic né cria kkk', '@lxcascrxz perdeu um civic 2019 por cocas q viraram apenas mijo...', 'civic ficou pra trás hj kkkkkkkk ri demais kkkkk', 'neste sábado,07,a equipe do gabinete do deputado @capsamuel fez panfletagem de divulgação do trabalho de combate e prevenção às drogas do @batalhaose.o parlamentar foi recebido c muito carinho e o trabalho da instituição foi aclamado pelas pessoas q prestigiavam o desfile cívic https://t.co/t7j78kwjcp', 'honda civic com teto solar é brabão 🥰', 'a festa é na favela, os moleque fuma maconha de civic na banguela', 'meeee eu com esse civic q o sorte mania tá sorteando', 'você sabe qual o sedã perfeito para você? o honda civic com mais conforto para suas viagens e potência nos motores. \\nfaça um test drive: https://t.co/w6yb8qfbha\\nassista no youtube: https://t.co/twf9zopbhe\\n\\n#honda #hondacivic #carros https://t.co/nt78njjait', '@gbxntfd bora? sexta na praia da reserva, chegar lá de honda civic', '@guntzel_antonio no civic isso nao acontece', 'honda e vai custar mais caro que um civic type r na europa https://t.co/1bl0h5vqme #iaa2019', '@gkogliari oooo tu tá com um civic preto? senão vi alguém muito parecido cntg sjsjsjjsj', 'parou um honda civic branco no meu portão 100% feito pra mim🤟🏻n sei pq o moço n deixou a chave😤😓😭😞😰', '@surrealuanjo miga o novo civic surra esses carrinhos aí tá', 'tenho o telemóvel todo partido!', '@jorgegmrs07 depois nós troca o barco por um volante e um banco de honda civic', '@pqp_welinton rlx semana que vem role de civic kkkkkkkkkkkk', 'cansada dessa vida de pobre sofrido, quero que chegue logo meus dias de glória onde eu esteja na minha casa super grande e nova e com minha caminhonete e meu civic zero pra dar carona pra quem quiser', 'quer dizer que o meu civic bêbado com uma revisão, óleo fresco e uma de redução de peso consegue apanhar um mercedes de 2019', 'uma banda de civic', '@joana12122001 @almeida8883 @mandontwantwar mas rebaixado tipo honda civic de 1999 ou citroen saxo de 2001?', 'e o cara hj no ct que tava dando ré com um honda civic e conseguiu bater. esse carro deve ter mais sensor que a iss', 'william loco \\nvai me dar um civic de aniversário — bem capaz que não né kkkk https://t.co/uzfbvhwt5d', '@rafadvogada depois disso o civic parou de ser muito baixo?', 'nono dasme o pato e isto pode ser ??\\n@nono_pereiraa https://t.co/pmaf5bhpse', 'tem um civic branco parado aqui na rua\\nnão dou nem 1 hora pra ele ficar preto com esse clima agradável de 970 graus', 'modelo do kia cerato 2020 será trazido do méxico com motor 2.0 flex, de 167 cv, para brigar com toyota corolla, honda civic, chevrolet cruze e companhia. https://t.co/jcwmmqvdkj', 'detesto que me deixem a espera!', 'namoral o honda civic novo é mt bonito parece uma nave espacial que saco quero um', '@floreskrywycz quero esse civic do lado emm', '@civic_airdrop 0x6087f6233525f197cf1f504875819e1da3cca3a5', '@vbittencourt07 foi af😰 só queria dar um role de civic', '#autonews #noticiasautomotivas honda e vai custar mais caro que um civic type r na europa =&gt; https://t.co/le4qxboxvp | franquia autogarage =&gt; https://t.co/pnnpjgzg3d ! #classificadosautomotivos #anuncieseucarro #carrosavenda #vendadecarros #seminovos #carrosseminovos #carrosusado', '@civic_luis eu seiii mas não te vou dar um aperitivo 🤣', 'focus titanium, civic ou cruze, que dúvida cruel 😩', '@civic_luis vais levar no fucinho', '@zeca_dirceu honda lança no civic, lula continua preso babaca, novidade vem com visual remodelado e chega em 2020 ao brasil!', '@nono_pereiraa não sei procura', 'amores da minha vida ❤❤ em civic square https://t.co/kjje3cwdoh', 'faço som pra tu te bafares num honda civic, é um dever cívico', 'carro usado honda civic lxs flex - 2009 - barra mansa/rj - ref:1939406 - r$ 31.900,00: vendo carro usado honda civic lxs flex - 2009 - r$ 31.900,00 - barra mansa/rj - ref:1939406 https://t.co/htkdjsmaix https://t.co/apxq4j7tqp', 'o dia tá tão lindo hoje que vou chamar ele de honda civic', 'trabalhar p eu garantir meu honda civic', 'era só um role de honda civic..!🚗🚀', '2015 - solteiro\\n2016 - solteiro\\n2017 - solteiro \\n2018 - muito feliz com honda civic \\n2019 - casado com honda civic https://t.co/lkpik2l065', 'mas o corolla 2020 vai deixar de ser do vovo,e ser meu sonho de consumo, adeus civic', '@leferraz0303 eu vou comprar o civic si 2019 só falta 159.998.00 reais', 'o cara tem um new civic e acha caro pagar 40 reais pra lavar e sai com cara de merda, vai se foder irmão, ainda saiu derrapando pra foder meu chão de propósito, da vontade de tacar uma pedra slc', '@gus_teix palavras chave: civic e coringa', 'meu avô tá com um civic braboo', 'ela quer entrar no civic, eu ando a pé então ela que se foda.', 'quero adotar um!!!\\n@nono_pereiraa dá-me um! https://t.co/ucsbru3qd3', 'não p minha surpresa, o sr. a.r.s proprietário de um honda civic iqk - - 73, o qual bateu no meu carro e deu fuga, hj no mesmo lugar entrou no sentido contrário da pista, reconheci a placa e tbm a pessoa, comigo foi o 3 acidente dele no mesmo lugar, 1 hora vai dar merda!', '@civic_luis nosso??? já tenho dois tanks', 'tao cedo não volto a fazer! https://t.co/wbdvpf0x9p', 'imagina que legal você ter um carro só seu (bonito, tipo um toyota corolla, honda civic) e cuidar dele? nossa, eu ia me sentir tão bem indo prós lugares com ele, deixando ele cheiroso, lavando ele, escutando meu som dentro dele, passeando com as pessoas que eu gosto', '@nono_pereiraa tou brincando anjo ❤️', '@euchiari20 auto escola vida, pra pegar o civic do nosso pai', '@jcarlos_46 os 3 estão no mesmo preço, mas o corolla parte do preço mais salgado (99.990) contra civic (97.990) e golf (91.790)', '@nicolediretora abriria um negócio diferente de tudo que já tem no mercado.\\n\\ne compraria um civic coupe.', 'honda e vai custar mais caro que um civic type r na\\xa0europa https://t.co/9drszjw76e https://t.co/rsjb2dhe5i', 'como não lembrar do meu amigo cabeludinho quando uso a foto de um civic em um post?', 'quem bater meta esse mês é  um new civic manoooo', '@nono_pereiraa dameeeee um patoooo!', 'ainda vou ter meu foguetão e meu civic', 'ficou pronto meu civic turbo do velozes e furiosos', '@marcusfundchel1 hoje foi uma queridona na minha sala fazer reclamação atrapalhando a nossa aula. ninguém está lá brincando não. eu acordo 4h40 da manhã pra ir pra aula, irmão. nem todo mundo do direito vai de civic pra faculdade não! o silêncio é bom e necessário pra todos..', '@jintaann vamo juntar uma grana e comprar um civic eg6', '@flaviogarage se puder mandar a fonte, agradeço.\\no amigo que comprou o meu ex civic vai precisar.', 'meu momento de ser exaltada chegou: meu uber é um civic', 'crime ocorreu nesta manhã em ponta porã; pistoleiro estava em honda civic e atirou quando vítima descia da caminhonete.\\n\\nhttps://t.co/khefbog8hh', '@civic_luis fodasse lá a merda do pato 🤣', 'a menina hj me chamou de invejosa pq falei q n acho o civic bonito, te falar viu', 'super promoção de hoje ��\\n�mês de setembro com preços imperdíveis�\\n\\nmuitas peças com descontos sensacionais\\n\\nlanterna traseira do civic 2007/2011 \\n\\ntemos também uma equipe preparada para lhe atender e deixar seu carro equipado com nossos produtos. https://t.co/ixvxxwc8o5', '@aka_civic chegou a 110 por hora?', 'honda civic é mto lindo', 'faz mais de 10anos que eu falo sobre o honda civic pros meus pais. nunca deram atenção ao que eu falei. agora,meu primo comprou um civic e está falando o quanto é bom. https://t.co/4jburbsabs', '#autonews #noticiasautomotivas honda civic ou toyota corolla: qual desvaloriza mais? =&gt; https://t.co/ku9icix1kr | franquia autogarage =&gt; https://t.co/pnnpjgi5c5 ! #classificadosautomotivos #anuncieseucarro #carrosavenda #vendadecarros #seminovos #carrosseminovos #carrosusados #ve', 'dei pau num civic si vindo pra aparecida cê doidooooo', 'minha mãe chegou pra mim e disse: a partir do ano que vem o civic é teu \\neu quase chorei de emoção', '@dani_filipa00 por um te fazer alguma coisa na julgues os outros igual 😉', 'carro usado honda civic exl 2.0 flex aut. - 2017 - barra mansa/rj - ref:1940053 - r$ 89.900,00: vendo carro usado honda civic exl 2.0 flex aut. - 2017 - r$ 89.900,00 - barra mansa/rj - ref:1940053 https://t.co/h91b0gjdhm', 'ontem juntei me a um grupo de raparigas que estavam a cantar os parabens !', 'honda civic ou toyota corolla: veja qual é o sedã que mais desvaloriza. #ndmais https://t.co/2esaekfb15', '@webmotors isso, deixou bastante interessante o modelo. mas vemos que o modelo não teve nada de tão inovador. com excessão da versão híbrida, temos praticamente o mesmo motor e leves alterações no design. sem querer comparar. vemos o civic como mudou significativamente.', 'novo corolla 2020 xei x jetta x cruze x civic - #comparativo de preço, consumo, performance… https://t.co/cgbbme4i6l', 'espero que a noite branca valha a pena já que me fuderam tanto a cabeça para ir..', 'como se n bastasse o estresse de ontem eu ainda sofri uma tentativa de assalto de uma burguês do umarizal ~vestido melhor q eu~ q tava num civic do ano mas pelo visto n tinha como comprar o iphone dele\\n\\nc o ódio q eu tava era capaz dele ser atacado por mim e n o contrário', 'dando aquele trato no honda civic pra o danado fica filé na festa da belyt 😘 🏎💨💨🔈🔉🔊📢📣', '@ypanpan_ @kyu_tsum pesquisa pelo k20, ai vc vai ver que é o motor do civic', 'o nosso nenê (civic) foi para arrumar. ter carro antigo é saber que terá gastar uma hora ou outra', '@sergioftavares sempre foi. acho que a mudança tinha que ser mais agressiva como a do civic foi. a transei desse ainda lembra a do anterior.', 'acelerada no civic não é nada mal meus zamigos', '@l_o_p_e_z_b ele era bem civic!\\n                        #palindromo', 'honda civic prata assaltando tudo por aí, um coroa de 60 anos que sai do carro armado. atividade!', 'ontem eu vi uma mina de role de 15 anos numa limosine. tinha um pai e uma mãe muito orgulhosos num civic atrás. essa ostentação toda é uma parada pra se pensar. mas o importante que eles tão tendo pra pagar.', '@joao_vcb_ eaheuaheuaheuaheau\\n\\no meu é honda, e tenho um civic', '@webmotors sem comparar. mas são concorrentes. diferente do corolla, o civic parece ser mesmo um novo modelo e não facelift.', 'toda vez que eu tô indo pro trabalho tem um honda civic xl todo descuidado estacionado numa ladeira\\nna minha mão aquele negócio ia ser uma jóia', 'honda civic meu sonho de consumo', '@kendrunklamar @ricferreira47 esse filho da puta não sabe distinguir um ibiza de um civic', 'fico lembrando do new civic e lembrando dos rachas q bati com ele e a isabelle do lado kkk', 'mano, eu jamais ia imaginar que ia ter que usar cd dnv, como que o rádio de um civic só roda cd manooo???!!!! 😭', '@marcelokoboldt não era civic?', 'civic não aguentou 🙁', 'civic parade. duty times. dota times.', 'nego é tão burro que foi assaltar o honda civic do novo ainda, que n souberam nem dar partida... fdps do crlh 😡', 'acabei de ver a cena mais \"????\" do dia.\\ntinha um cara alto do meu lado aparentemente tbm espera do sua carona. qndo chega um civic dos novos com uma mulher dirigindo.\\nela para o carro, sai, da um beijo no cara, entrega as chaves pra ele e senta no banco do passageiro.', 'foi lançado hj o corolla modelo 2020!\\n\\ncarro tá maravilhoso com aspecto bem mais esportivo que a versão anterior.\\n\\nobs: ainda prefiro o civic.', 'meu tio é engraçado nunca tem dinheiro e do nada lançou um honda civic kkkkkkkkkkkkkkkkkkkkkk 🚔😏', 'muito bom poder realizar um sonho de criança, o civic é demais! 🙏✔️😀', '@gui___c que chato andar em um civic né migo hahahahaha', 'vai ser a que me mais  marcou !\\nagradeço por oque ela fez https://t.co/93hehwibkz', 'honda civic ou toyota corolla: qual desvaloriza mais? https://t.co/7pcdt6gy1o via @portaln10', '@lucasgorges5 eu iria de civic na vdd', 'a minha prima tem os mesmos pensamentos que eu !\\n@_queendestashit', 'cheguei aq e pedi um urbano pra casa... um civic preto, o cara é policial militar, toca violão e guitarra em shows, da aula de dança e ainda faz corridas no urbano... pqp kkkkk\\ne vc aí reclamando que não tem tempo pra nada', '@nono_pereiraa eu não o como prometo!! fica o nosso animal de estimação!', 'chocou alguém? leticia esperando a aula começar dentro do civic dela https://t.co/mal8zu1gt2', 'troquei de carro...\\n\\nna realidade troquei a cor e o ano. troquei o civic 2017 no civic 2020, o branco pelo azul!!!\\n\\nprimeira vez que tenho um carro que não seja preto ou branco, vamos ver se vou gostarrrr.', 'civic tomou pau do valverde até o paraíso pra ficar esperto', 'antes do uber chegar em maceió  eu imaginava uns honda civic pretao mas tenho carinho pelos chevrolet classic', 'civic 2.0 lx automático 2019/2020!!! a honda preparou novidades, o sedã recebeu uma leve atualização no design, focando mais na adição de equipamentos e reposicionamento das versões, a marca japonesa desistiu da… https://t.co/9ntkzgkwb3', 'civic chumbo vai te pegarrrrr — q? https://t.co/r9ceucf0ay', '@civic_luis naoooi', 'era só vc e eu no civic fodendo a noite toda — 🤦\\u200d♀️ https://t.co/bxjjho7dww', 'civic tá roubando meu coração', 'vey o meu amigo ganhou um honda civic de presente de 18 anos do avó dele kskdkdkkkkkk mt burgues eu nao to tancando ate agora', 'honda e vai custar mais caro que um civic type r na\\xa0europa https://t.co/vzmj7cdgjq https://t.co/ox19thuvxu', 'esse honda civic novo é lindo demais, slc', 'ficou impossível pedir 99 top\\n\\nsó tem spin e duster\\n\\nmano, categoria + tem que ser sedã full-size e só. jetta, fusion, civic, no máximo um corollinha\\n\\nse eu quisesse um furgão sem amortecedor eu teria chamado um carreto pra transportar a minha carcaça', 'honda civic e uma nave e tanto kkk 🤦🚀', '@__jeancarloss eu tô ficando doido ou essa pouha tá parecendo um civic 2008????? hauahauajaja', 'filha de mecanico eu meto honda civic 1.4 i-vtec sport 2010\\nlisboa, póvoa de santa iria e forte da casalisboa, póvoa de santa iria e forte da casa\\nmodelo: civiccondição: usadoano: 2010 quilómetros: 115.000matrícula: 42-iq-01 portas: 4-5combustível: gasolina', '@flaviogarage fizeram isso no meu cívic, frentista nova no emprego 🤦🏻\\u200d♂️', 'orra\\nto num uber perfeito!! \\n\\na motorista é uma senhora alemã cheirosíssima, é um honda civic novo, bancos de couro caramelo e tá tocando um álbum do stevie wonder', 'pega o civic para nós dar uma volta mano, irei te ensinar a dirigir, pq na auto-escola tu não vai aprender não kkkkk \\n@7777felipinho', 'quando eu for comemorar meu aniversário eu vou beber mais que um honda civic mlq, papo reto! 😂', 'meu pai comprou um civic pixado d+++++, agr só e esperar ele ficar bebado pra soltar na minha mão 🤣', 'meu pai não quer me dar o civic, af pai tóxico', 'minha mãe quer comprar um carro (ecosport)  e não quer deixar eu escolher o modelo(honda civic) kkkkk mãe tóxica', 'acordo as seis da manhã a ouvir um civic a esgotar rotaçōes numa estrada mesmo ao meu lado e o gajo ainda não parou 25 minutos depois...', 'adianta nada andar de civic e ser corna 😂', 'gatinho, aquele civic é seu ? — kkkkkkkkkk, roubado https://t.co/gwytzgkz8c', '@civic_luis por falar em esperança nc tenhas uma sogra com esse nome 🤣 é sempre a última a morrer 🤣🤣🤣', 'será se meu pai vai ficar muito bolado qnd vê que eu deixei o civic na reserva', 'meu amor por audi tá superando o amor pro civic 😍🖤🖤 https://t.co/3q8a6ka7jf', '@lordtrevass brinks eu vô compra do civic hatch 40 conto', '@gabrielf_simoes só quando eu tiver com a grana do civic', 'honda civic, ford galaxie, cadillac: veja carros dos filmes de tarantino https://t.co/laiftdqrau via @bol notícias @bol', '@aka_civic @chrissouza27 primeiramente que quintal tem que ser atras da casa', 'honda e vai custar mais caro que um civic type r na\\xa0europa https://t.co/z8g3isfpqo https://t.co/5wcmgyvvqz', 'esse tweet do paçoka aí kkkkk passou 2 cara num honda cívic 2019 prgtando se agnt aceitava 100$ e pra eles fazer um boquete em nois 2 kkkkkkkkkkk', 'caroline tirou carteira e elevou 50% da postura de burguesa safada, esses dias mando foto dirigindo um civic falei “hmm civiczada” a resposta dela “daqui a pouco mando foto do creta bjs✌🏻😙✌🏻”', 'moto ou carro? — carro, se for o novo honda civic preto então, nossa senhora. https://t.co/eipaue7c8x', 'qual a parte que pula pra onde eu tenho o cu cheio de dinheiro, uma casa dessas e um civic preto na garagem? https://t.co/hvzhhjzocb', 'honda civic 2020 | novidades | lançamento | motoreseacao\\nhttps://t.co/jusyef8ykd', '@moraisgaming crash bandicoot , gran turismo ( porque tem o meu honda civic) , soulblade , medievil, dragon ball final bout, tekken 3, um fifa qualquer...aquele que tem o simão na capa', 'honda civic lxl 2011\\n* completo\\n* automático\\n* multimídia\\napenas r$43.900,00 à vista\\nconsulte nossos planos financiamento.\\nvenha para a expansão veículos!\\ncontato:\\nfixo (12) 3922-1113\\nalexandre leite (12)... https://t.co/88wo2es3s7', '@gdg_com teu civic fica lindo ate sem roda 👏👏👏', '@_queendestashit parabéns primaça ❤❤❤❤❤', '@mateuszanchinn quero o civic kkkkk', 'acordo logo de manhã com uma raiva de partir tudo!!\\nque nervos..', '@hiagocardozow meu querido vc tem um honda civic cala boca', 'civic 2.0 lx automático 2019/2020!!! \\na honda preparou novidades, o sedã recebeu uma leve atualização no design, focando mais na adição de equipamentos e reposicionamento das versões, a marca japonesa desistiu da… https://t.co/gcopw168fu', 'tou com uma vibe nova !!', 'trabalhar pra pegar minha xj6 e meu civic', 'comparativo honda civic exl 2.0 cvt 2020 vs novo toyota corolla xei 2.0 ... https://t.co/a9g0djbrob via @youtube', '@pedro_urbanetti esse sim representa imagina a hora q começa a pega o carro do tio pra anda vai ser mulher até no porta malas do civic auuuuuur', 'a @njpw1972 anunciou recentemente que o #newjapanshowdown acontecerá no globe theatre, em los angeles em 11 de novembro. \\n\\na njpw já havia anunciado o new japan showdown em san jose que será realizado no san jose civic, em 9 de novembro. https://t.co/xb3wq2ahvj', 'prf consta que honda civic dirigido pelo médico tovar luz invadiu a contramão https://t.co/xghekqoc76 #cartapiaui #jornalismo https://t.co/wxqgnefoq0', 'esse civic honda black 😍, pena ter um sinistro', 'venho pro bolinha, vejo várias motos, da maior vontade de comprar uma, mas lembro do meu civic.   rapidinho passa essa vontade!', '@civic_airdrop 0x4dc770589aa804794a0aa9e64c40a391cb4b1285', 'beleza bati no honda civic saindo da garagem do barraco', '@nono_pereiraa não vou fazer de aperitivo !! juroo', '@dudaalinaa cara mas esse new civic ficou muito mais top q o vovorolla haushauhs', 'civic si 2008 é meu novo sonho fds', 'minha namorada é uma fofa ela me chupou no civic', 'papai já disse que ano que vem, vai deixar o carro no porte kkk, fudeu em kk, se já chovia apé, imagina de civic 10 🤣🤦🏽\\u200d♂️', '“no civic do corno” kkkkkkkkkkkkkkkkkkk ai tenho tanta raiva de um gp', '@vivivini_frezza kajskskakakkakakaka querido, logo chega o civic', 'e eu pro meu pai “queria tanto um civic econômico” hahahaha', '#horadeporcafé @nilmoretto @cdnleon \\n\\nsabe qual e o nome do carro cívil\\n\\nhonda civic', 'onde as mulheres negras tem aplique\\nos homens negros, dois empregos\\nnenhum deles tem um honda civic🎶', 'acordar com a esperança de muita coisa para mim acabou !', 'esse honda  civic 2019 tá mt lindo, babo mt esse carro 🤩', 'civic lacrado é mt chave de enquadro mano', '@carolfavoretti_ vamo de civic ou de creta minha motorista?', 'esperar pra transar no civic do meu namorado e não desonrar o meu, slc meu carro mano', 'trabalhar pra me dar um civic de presente 🤧🙌🏽', 'planeje sua compra e conquiste o honda zero dos seus sonhos! honda civic sport cvt sem entrada, com parcelas a partir de r$1.804,40!⠀\\n⠀\\n#chroma #hondainterior #hondaauto #hondazero #consorciohonda #jundiai #itatiba #bragancapaulista #vinhedo https://t.co/yi31xzghb7', \"quanto vale seu honda civic equipado\\nna garagem do seu advogado?\\ndinheiro de crime é maldito, fruto de desgraça\\nvem com a cara do diabo na marca d'água.\", 'o civic gx realmente é o carro moderno que eu teria numa boa.', '@andrelourenti @vick123 nesse dia a fama do motor do civic começou tb', 'vontade de comprar um civic hatch', '@haveheartx @berteli aqui ó https://t.co/luo4vlc2ds', '@civic_luis vou ali dar o cu e já venho', 'dois carros que eu sou apaixonado: range rover e civic', 'minha garagem daqui a 13 anos\\n- honda civic si 2011\\n- golf gti mk 7,5\\n- passat pointer gts 1989', 'corolla ou civic. qual desvaloriza menos? https://t.co/f13kzhqtox', 'novo honda civic geração 10 2020, evoluir sempre. existe nas versões tur... https://t.co/bsjwy9ku3e via @youtube', '@vitorffarbo slc o civic era zikado, vendi a porra do carro e ainda chega multa mano, já chego 2 🤦🏽\\u200d♂️', 'carro usado honda civic lxs 1.8 flex - 2008 - volta redonda/rj - ref:1939422 - r$ 29.900,00: vendo carro usado honda civic lxs 1.8 flex - 2008 - r$ 29.900,00 - volta redonda/rj - ref:1939422 https://t.co/7goinfpwqb', '@egaby11 eu tenho medo de começar amar e a pessoa fazer eu comprar um civic.', 'gente vamos jogar stop? não vale olhar na internet hein caralho\\n\\nuse a primeira letra do seu nome e responda\\n\\nnome: caroline\\nlugar: canadá\\nbebida: coca cola\\ncomida: croassant \\ncarro: civic\\ncor: cinza\\nfruta: caju\\nobjeto: colher\\nanimal: cachorro', 'eis a decisão mais fodida da vida...\\nrenovo meus olhos ou os olhos do meu civic esse mês??', '@pqp_jaooo tá casado com 3 filhos e vendendo o civic', 'honda civic 2012/13 lxl  - 2013 - https://t.co/vcoyexhmpc https://t.co/1rutfx5rbs  nao aceito trocas!!!!!', '@nuxx_ e o dono do psg mais arrependido que quem compra honda civic usado', 'civic do tio tony é a nave das naves', 'yuri: continue sendo essa garota pica que tu é.\\n[4/9 21:32] yuri: ainda vou te levar pra comer uma pizza no meu honda civic. anota ai', 'mesmo hoje sendo sábado e feriado... eu estou trabalhando kkkkjj \\npreciso pagar a gasolina do civic.', 'bolsonaro participa de lançamento do programa nacional das escolas cívic... https://t.co/cyyzhmrube via @youtube', 'civic hoje tá sujo isso que quarta tava no brilho ficou parado ontem dia todo', '@baiucadopastel civic fodinha o resto nadinha', '@matheusmaxwell não mesmo... já vai pro meu projeto do civic hahahaha... só aguarda um civic com motor k20', 'a honda portugal automóveis volta a marcar presença no caramulo motorfestival, que acontece nos dias 6, 7 e 8 de setembro, na serra do caramulo.\\nao volante do honda civic type r, o piloto francisco sande e castro… https://t.co/re9qczsczw', 'bolsonaro participa de lançamento do programa nacional das escolas cívic... https://t.co/zaoj6udfyy via @youtube', '@baiucadopastel o que tu tem contra o meu civic?', '@wiru46 eu achava que o corolla era da faixa de preço do civic\\nacho que está até mais caro que um golf novo, não?', '@r0nger vai toma no cu mano ia bota civic honda', '@ybeancs @wesley_alvssss @alisoonjoe só se tu levar o civic', 'agora é sério vou compra um civic e sair atropelado todo mundo tóxico e se fazer de sonsa depois', '@gabiedpereira eu e você chegando nos role de honda civic 🤪', '@matheusmaxwell ahhh n... quero fazer projeto aí n .... deixa eu com meu civic aqui... https://t.co/voadccgxyv', '@nono_pereiraa dame um por favor ...\\neu deite gelado ..chocolate.. vou ter dar mac...andaaa laaaaaa', 'come-me o cu rsrsrsrsrsrs nem sabes quem sou mas é assim eu tenho um honda civic de 2001 que gostaria que me viss… — ai diz-me quem és que vais ver o que eu te faço 😩😩😩😩😩 https://t.co/hfnaktt6jq', 'honda civic 1.8 automático só gasolina é bom? opinião real do dono parte 2 https://t.co/lgw6a5lccm', 'sábado to com a casa de banda e o civic na mão vai dar merda 🤣🤣🤣🤣🤣', '@annicath honda civic quase que alcança o hb20', 'olha que raridade está te esperando!!!😍😱🔥\\nhonda civic lx 1.7 mec 2002 completo 19.990\\nvariedade é na rossi veículos, mais de 200 veículos em estoque!!!🚗🏍😉\\n🏆 wagner filho 📱whats 16991517414\\n☎ 16-4009-3390 📱16 99292-7242 https://t.co/dw6ffuvtyf', '@cadu_fernandes0 kkkkkkkkkkkkkkkkkk 160 mil num civic é phoda', 'civic lindo nas dz7 fixa\\n✅fixa no conforto\\n✅feito regulador de cambagem\\n✅chapa tanque\\n☑️ talibã suspensões especiais\\n☑️ mecânica tlm (51)31150503\\norçamentos via whatsapp(51)989058867 https://t.co/wqt1dnwkpm', 'peguei um civic boladao com ar condicionado de uber aq, nem todo herói usa capa', 'pretende ter um carro futuramente? se sim, qual? — civic 2019 to apaixonado nele https://t.co/qlbznf4t2m', 'carro usado honda civic 1.8 16v 4p flex lxs aut. - 2014 - taubaté/sp - ref:1929915 - r$ 49.900,00 https://t.co/wop7sfkptb https://t.co/7sazu0obab', '@menotega155 @fkmanok e júnior ta bom pra ir na mala do civic prata', 'uma cabeça cheia de medos, não tem espaço para sonhos... 😎✅🔊#santacatarina #penhasc #honda #civic #b&amp;w https://t.co/ne5ksmcvkh', 'honda civic 2020. o melhor preço de sp! consultem-me. #honda #hondacivic #followme #civic2020 #hondadealersp #civic #carronovo #hondadealer #carro https://t.co/b4nwvrn9fr', 'acabou de publicar uma foto em civic square https://t.co/ffkt019twl', '@vbittencourt07 oi lindo me leva pra andar de civic', 'cadê o batman de graça na psn plus @playstation_br ???', 'corolla ou civic. qual desvaloriza menos? https://t.co/zk2cew5gdj', 'todo dia entrando na olx a espera de alguem dando um civic na troca de um clio 😂😂\\ner pedir mt meu senhor', '@diasgabii2 @tavozera saudades civic', 'prevejo muitas risadas daq a pouco quando eu contar a história do honda civic pros.mlks 🤦\\u200d♂️🤦\\u200d♂️', '@eternocasulo sim, e ainda vem aquele pacote de segurança, dependendo da versão. coisa que a honda bobeou de não colocar no civic', 'vou andar no civic do meu primo burguês \\ngrande dia', 'cheguei torto ainda por cima dirigi o civic do parceiro kkkkkkk', 'honda civic 2020 ganha facelift e versão inédita para encarar novo corolla https://t.co/flp4e1ksub via @uolcarros @uol', '@jessaxn civic 2019 com aerofólio 129k', 'corolla ou civic?\\n\\nmessi ou cristiano?\\n\\nronaldo ou romário?\\n\\nde boné ou na régua?\\n\\nficar em casa ou sair?', 'preço de um civic 2007 https://t.co/ewxrlnvcme', 'detesto quando estão online! e não me respondem..', 'gente vamos jogar stop? não vale olhar na internet hein caralho\\n\\nuse a primeira letra do seu nome e responda\\n\\nnome: haylla\\nlugar: hungria\\nbebida: heineken \\ncomida: hambúrguer \\ncarro: honda civic\\ncor: hamarelo\\nfruta: habacaxi\\nobjeto: harpa\\nanimal: hipopótamo\\n\\nstoooooop! https://t.co/cfv6mf4tnn', 'som de motor bonito na minha opinião é som de corolla, civic, cruze, z1000, cb 650f, xj6, não essas bagaceira mano pqp', 'carro usado honda civic lxr 2.0 flex aut. - 2016 - volta redonda/rj - ref:1939409 - r$ 69.900,00: vendo carro usado honda civic lxr 2.0 flex aut. - 2016 - r$ 69.900,00 - volta redonda/rj - ref:1939409 https://t.co/libo9lw1se https://t.co/oloj4cwa8p', 'qualquer homem passando com um civic: a \\neu: nossa xô vê se eh gatinho p engatar um namoro', '@fred_dalberto me busca em sm de civic e paga meu ingresso que eu vou', '@m0nizzz @playstation_br cara, pensei que era so comigo ! também estou na espera que resolvam isso !', 'vídeo: new civic 2014 2.0 16v revisão\\xa0leve https://t.co/6mp3ttp0ml https://t.co/gtut2ld6wg', 'bem, isto ainda está no reconhecimento de pista, atrasou tudo por causa do civic\\nacho que tá na hora de ir dormir um bocado para a sombrinha', 'fui busca as bolsa do civic já comi um mec', 'digamos que vc tenha 40 mil reais pra comprar um carro, qual carro escolheria e pq? — se for um 0km eu iria de hb20, não tem como esse carro é muito bom. se for um usado, da pra pensar num fox 2016, civic 2010(talvez até 2013). https://t.co/b99jop6kyr', 'dar tanga em new civic com aerofole e scap de saveiro nao tem preço!😆@_juliomatheuss', 'quando sera que vou ter estabilidade suficiente pra comprar meu civic', '@marcelins32 @sdsoares837 mas ele não conta, era do ca, só abóbora, mas quando ele falou que tinha um ronda civic zero 🤣🤣🤣🤣🤣🤣🤣', '@civic_luis ah ah ah não obrigado! 🤣', 'garanta a sua segurança e a do seu honda, nos dias 9, 10 e 11 de setembro, na rio tókio botafogo e recreio. ligue e agende agora: 0800 282 5000.\\nhttps://t.co/zmq2bigo8m #recall #airbag #hondariotokio #rj #safety #civic… https://t.co/wz3fhwsltf', '@joaolucsol me da um piano antes de conquistar o civic e alias vi um civic na rua deve se modelo novo ta bonito dms credooo', 'papai acordou hoje falando que ia comprar um honda civic e ia rebaixar ele kkkkkkkkkk meu pai tá aprendendo so o que não deve com meus amigos', '@anneeks_ dando ré num civic e metendo fuga.', '@gabolinox is ficar mt lind no meu civic', '115 mil na porra de um civic @tomasbraga', 'ceis reclamam do povinho que apoia o pr, pq não conhecem os fanboys do civic e vovorolla!! ali que a briga é feia....', 'gostei demais do conteúdo do novo corolla.\\nvai depenar mais ainda o civic. #toyota #corolla https://t.co/pwo6udklz2', 'acabei de ver os cana andando de civic na pista slc', 'civic tá no toque de brilho, limpinho', 'manooooo bati racha com um civic na pista  e o cara comeu poeira do meu c3 kkkk', 'acabou de publicar uma foto em civic square https://t.co/xuls8qbvej', 'tenho medo de me apaixonar novamente e o guri falar que eu tenho que comprar um civic pra ele dizer que sente o mesmo que eu kkk.', '@whsallas menó, não tem como competi com cerveja. \\n agora ela bebe com meu vizinho que tem um honda civic :(', '@aka_civic kkkk vai te fude', 'nao trocava minha dor de cabeça chamada civic 97 por nenhum carro no momento', 'hoje indo ao trabalho eu quebrei a quarta parede quando tava no meu vídeo clipe cult conceitual com a música da lana del rey no fone e meu amigo freou o carro quase em cima de um civic novinho e soltei um sonoro caralho, morri.', 'entrei nas americanas pensando \"vou comprar só o que preciso pra deixar de lanche no trabalho, nada de besteira\" aí me deparo com um civic da hotwells type r que eu nao tinha', 'honda civic 2.0 lxr 16v flex 4p automatico 2014 automatico honda kodyve em mogi mirim oferecendo o melhor para você na compra do seu seminovo multimarca ou honda 0km. trabalhamos com financiamento em vários... https://t.co/jvvpa4uvfj', 'n vejo a hora de comprar meu civic', '@haaynn o nome do carro é civic msm só q tu pós o honda antes pra começar com h e eu achei genialkkkkkkkk', '@7rtelles pega o civic e vm', 'nonoooo olha um patoooo a rir!!!!!\\n@nono_pereiraa https://t.co/m0oexqrsir', '@hugochgomes tá na mesma faixa de preço do civic\\nlegal que trouxe o sistema híbrido pras massas\\nmas continua sendo um lixo (bonito o painel)', 'esse rra brabo. lembro ate hj da minha civic tunada e personalizado do jeitinho q eu gosto https://t.co/2qzagzynzw', '@bressayuri uma roda do honda civic mais minha mãe de troco', 'vir na honda desperta a burguesa madame que habita dentro de mim e me faz imaginar dirigindo um civic que carrão meu deus', '@_queendestashit ta calada!!\\ntu és linda chavala!', 'civic lxs, automático, ano 2014, 69.000km e completo!!! vem fazer um bom negócio aqui na infinity multimarcas!!\\n\\n#carros #car #cars #instacar #autoshoppingguarulhos #vendas #auto #motor #melhorpreco #photo #novidades #ofertas #oportunidades #videos #infinitymultimarcas https://t.co/aa2ow1swci', '@letlobato_ égua amiga, sério :/ eu moro bem pertinho do mc da antonio barreto será se foi o msm? ele tava num civic cinza', 'esse civic é bonito demais, meu sonho', 'honda civic ex 2018/2018 r$ 88.900,00\\n\\ncontatos:\\n📲 (91) 98988-1075 (whatsapp)\\n\\n🏆 1 ano de garantia club car.\\n🏆 trabalhamos com todos os bancos e temos as melhores taxas do mercado.\\n🏆 pré aprovação do seu... https://t.co/58y2ctf7su', '@__jeancarloss se o farol n tivesse aquela curva ia se a frente do civic q ia tá lá lkkkkkkkkkkkkk', 'duvida do caralho, mas cada um tem seu lado positivo/negativo\\njetta 2008 - tem teto solar / câmbio tiptronic \\ngolf 2008 - tem teto solar / manco\\ncivic 2008 - boa revenda / n tem teto\\nsaveiro cross 2011 - cabe muito som / só cabe 2 pessoas', 'nao vejo a hora de comprar meu civic 😍🚗⏳', 'anderson largou o civic automático pro guilherme dar uma volta, mas não vou sair na rua por enquanto', 'meu pai tá bravinho pq eu disse que o fusion é o carro do momento e que é mais bonito que o civic e o cronos', '@migueloribes cntg né \\ntu que tem civic', 'e se eu comprar ações da honda quando eles lançarem um civic novo e comprar ações da toyota quando lançarem um corolla novo? será que daria lucro?\\n\\nnesse post você encontra a resposta!\\n\\nhttps://t.co/iekv2colkn https://t.co/amigcyxrey', 'não sei se estou vivendo ou vendo vídeos sobre meu futuro civic geração 10 sport 2.0 manual...', '@malumorelli123 tava concordando até \"civic preto na garagem\"', 'pai: esse irresponsável quase bateu, n sabe dar a seta\\nminha irmã: nossa papai e ainda ia ser no civic, nem pra ser no celta\\n\\npra ela ta tudo bem bater o carro, dane se a nossa vida dsd que seja o celta kkkkk', 'como essa porcaria pode massacrar meu civic sir? https://t.co/pgl9kp9rh8', 'meu tio me buscando de civic pra ir num rolê com piscina,hj eu tô chique', '@nono_pereiraa vai lá anjoooo❤❤', 'erick wanderson ainda sim fica atras do civic https://t.co/dneyx13my9', 'honda civic ou toyota corolla: veja qual é o sedã que mais desvaloriza. #ndmais https://t.co/kn0lli5hwe', 'conhece meu nome mas nao sabe quem sou \\nvagabundo barbudo atropelando seu flow\\nde chinelo no centro sua mina me olhou \\nde dentro do civic tu nem reparou', 'chorei nesse civic 😍😍😍😍 https://t.co/s0pt613emd', 'fui na vibe bad peguei um cash liguei os mlk civic prata na br o coração black atrás das cretina mais sexy 🎶', 'ninguem me quer dar um pato amarelo pf?', 'a rapariga de óculos era bonita !', '@_gbgomes_ @matheuss2costa @dianasmv3 lá ainda seria melhor que aqui \\nexp 01 como o poder de compra é maior até pessoas que vivem em locais do subúrbio você encontra  vários eletro domésticos no lixo.\\nexp 02 carros que você só compraria se recebesse mais de 20 salários aq no brasil, lá carro popular e honda civic.', 'prr pq o civic tem que  ser tão lindo mano um sonho', '@fabio_luiiz92 @mocayago corolla o carro mais vendido, civic vem logo atrás, olha q tenho um em', '@konopka_andre por isso que eu vi o civic virado em um 8 hj kkkkkkkkk', 'viva a diversidade!  😎 em civic square https://t.co/57psjhgfl8', 'que perigo a leonor a conduzir ahah', 'esses dia vi uma bmw q parecia um civic bombado', 'o bonde da chatuba só quer carro importado audi, civic honda, citroen e o corolla 🎶', 'morto* https://t.co/oak4gebjhu', 'corolla ou civic. qual desvaloriza menos? #economia #emprego #vagas #finanças #gestão \\n https://t.co/ocf7s51qnv', '@malumorelli123 quem paga 120 mil num civic??????????????\\n130 mil eu desenrolo um 350z', 'quem não deve não teme !', '@civic_luis não te vou dar o teu almoço 😠', 'casa vez que passo naquela esquina e vejo aquele civic si me sobe uma vontade de fazer um financiamento a juros pornograficos', 'n acredito q veio um honda civic me buscar no uber kkkkkkkk', 'detalhe, corolla não é artigo de luxo\\ne não precisa ser só corolla, pode ser jeep ou honda civic \\npra classe média serve mesmo é pra presentar o filho q passou no vestibular da usp\\nquem acha isso aceitável só pode ser doente, ou então, foi alienado pelas ideologias capitalistas', 'tou a ficar totil magro...', 'dentre os civic, a versão que menos perdeu valor foi a ex (4,4%). #odia \\n\\nhttps://t.co/o1yfot0ehj', '@s444nt @crvg_henriq mas nem foi assalto só tentativa o cr foi roubar o civic da mulher só q ele n sabia dirigir carro automático kkkkkkk aí meteu o pé', 'podia só ter acabado de uma maneira melhor .. https://t.co/k7jm09inhh', 'o que mais me motiva a trabalhar todos os dias é quando eu vejo um civic passando kkkkk ainda vai vim 🙏😜', 'assim https://t.co/r6omjpoe5g', 'acordar todos os dias com o msm pensamento ja começa a cansar..', '@fabioalves2001 \"fabão da twister\" ?\\nnão mais agora vai ser fabão do civic, da veracruz ou da santa fé 😂😂😂😂😂', '@igorigorpac10 pelo painel é um civic einn hahah', 'meu carro dos sonhos é um civic preto 2018, mas o corolla xrs 2.0 2019 tá coisa linda 😍', '@_queendestashit somos msm de família fg!! 😂❤', 'honda civic: o carro mais procurado pelos brasileiros na internet. \\n\\naproveitamos para lembrar que as lojas estarão fechadas hoje. \\n\\ncurta a folga e bom feriado! #independência&amp;honda https://t.co/euou7ddhk7', 'civic ficou um luxo, todo limpinho 🥰', 'civic tá mais tiozão que corolla. novos tempos', '@n_athyzinha já visse o novo honda civic??????? meu deus assim q tiver dinheiro esse vai ser o meu carro porra', '@_lucaspimenta @rafael_munaro achei o acabamento bem fraquinho pra 99k pra cima, continua distante do atual civic em design.', '@papagaio_louro @tsfradio @lycan2k9 tem cuidado com o gajo do honda civic preto.', 'passei na blitz hoje, sorte a minhabwue estava de civic, pq se fosse meu celtinha era pokas', '@quintasergio o civic ainda é imbatível no quesito beleza', 'mano sou muito apaixonado no civic q isso', 'eleita a mais gata do baile psj, segundo a diretoria do civic👏👏 — já quero o próximo lá 🤤 https://t.co/t4spylbftb', 'peguei um civic enquanto meu carro não fica pronto 🙏🙏🙏🙏', 'trabalhar pra comprar o civic 2020', '@jo_demetrio honda civic né', 'civic corte fácil tá maluco', 'quero um honda civic e vou conquistar só se liga 😄', 'pula p parte q eu to no meu apartamento c meu honda civic na garagem', 'contínuo sem perceber como nem uma mensagem mandas ..', '@lmxlucas1 kkkkk tu falou que ia lançar um new civic 🤔', 'tenho carro de novo, bota nitro no seu honda civic que não quero te humilhar no racha', 'cheguei só agora a casa !', '@pabloodanielll claro , só larga as absolut e red na mala enche o tanque do civic e ta dominado só decidir qual é próxima parada 💆🏻\\u200d♂️🌴', 'carro usado honda civic lxr 2.0 flex aut. - 2015 - barra mansa/rj - ref:1941347 - r$ 58.900,00: vendo carro usado honda civic lxr 2.0 flex aut. - 2015 - r$ 58.900,00 - barra mansa/rj - ref:1941347 https://t.co/yemv3swflk https://t.co/ikbjjqjcmq', 'hoje é dia de goiânia ficar mais colorida! 24a parada do orgulho lgbt de goiânia! e aqui, não teve censura! #lgbtq #lgbt #paradagyn #paradalgbtgoiania #orgulho #pride #goiânia #goiania #naovaitercensura em civic square https://t.co/jitg1migf6', 'preguiça de desmontar o painel do civic', '@_queendestashit manda dm', 'vou ter um abcd q a próxima rifa vai  ser um civic hatch dx 😭😭😭🤩🤩🤩🤩', '@aka_civic manda pro ti aqui', \"acho que se legalizassem tuning, muitas pessoas iriam ter ptsd's de arrancadões de honda's civic e seat's ibiza...\", '@1queimalento1 188km/hr dentro de um civic tu nem sente nada, meu pai andava sempre nessa velocidade kkkkkk', '@bruprnn eita civic, acho que vou ter que comprar uma sortemania', 'comprei meu civic faz 2 semanas, já lavei ele umas 7 vezes. kkkk', 'maior tristeza do dia: sonhei que tava comprando um civic e acordei e vi que era só sonho', 'esse var var vc prefere corolla ou civic? kkkkkkkkkk', 'a @nono_pereiraa quando tiver melhor vou levá-la ao mac e aos cachorros!', '@pretodoborel1 patrão né primo, absolut e rolê de civic só', 'hora a hora tudo melhora!!', 'esse civic 2020, coisa linda puta merda', '@wmpiloto nada supera meu civic pretinho mesmo kkk', 'máquinas e pilotos br: kia cerato 2020 motor 2.0 super econômico e tecnologico\\n\\nmodelo do kia cerato 2020 será trazido do méxico com motor 2.0 flex, de 167 cv, para brigar com toyota corolla, honda civic, chevrolet cruze e companhia. https://t.co/30fjvuv9yg', '@matiasroberto a frente ta bonita, keria ver a traseira.. achei veio a do novo civic.. 😪', 'vale? honda civic 2020 | novidades | lançamento | motoreseacao\\nhttps://t.co/jusyef8ykd', 'vem que o taz é chique, tá comendo as piranhas dentro do seu honda civic 🎶', '@peddrodasilva ja to meu brother, daqui 2 anos ce vai de role comigo no civic', 'melhor noite impossivel !!!', 'honda civic ou toyota corolla: qual desvaloriza mais? https://t.co/zur14wja38', 'maior sdds de da um rolê de honda civic pela favela irmão deixava forte direto', '@aka_civic manda pra pqp', 'minha namorada eh uma fofa ela me chupa no civic tenho sorte n preciso trair ela c essas bitch', '@filipexciv mano, sempre fui fã de honda civic... e desde 2016 q eu tenho e nunca tive motivos pra trocar, daí vou só atualizando!', 'honda civic ou toyota corolla: qual desvaloriza\\xa0mais? https://t.co/u5cwxf3of5 https://t.co/7ehdgpoulr', 'pula pra parte que eu tô com meu honda civic, concursado e ganhando 6k por mês 😭', 'esse iphone 11 deve estar ctza mais de 10k. com 16.5k eu compro um civic coupé e fico feliz da vida', 'civic preto é lindo demais mano', '--------------------------------------------\\n🚘 honda civic sedan lxs 1.8\\n📆 ano/modelo: 2012/2012\\n🗼 câmbio: automatico\\n🎨 cor: preto\\n⛽ combustível: flex\\n💲 preço: r$… https://t.co/xbek8n4gg2', 'new corolla 2020 só não desbancará o civic (ainda), mas chega pra arrebentar com jetta, cruze, cerato e sentra; além do amplo espaço interno e o acabamento um pouco mais refinado que seus concorrentes, fará com que o sedã médio da toyota continue na liderança absoluta do segmento', 'honda civic lxr 2.0 - 2015 . completo\\n. automatico\\n. periciado 💯 %\\n. revisado\\n. com garantia por escrito\\n. impecável\\n. manual e chave reserva\\n. novíssimo 👉 consulte fernando costa\\n📲 13 974225081 zap 👍 . https://t.co/2vmfscqecw', '@estadao putz, vacilo demais esse carro... tenho um corolla, infelizmente não vou continuar, esse aí não dá... amigo freio manual? é essa “televisão” a tubo? , sem ar na traseira? por 130 mil? meu amigo que loucura!!! civic que já está mais avançado, vai se destacar ainda mais.', 'honda civic 2.0 lxr 16v flex 4p automatico 2016 automatico #hondakodyve #seminovosrevisados #estoquemultmarca #carros #grupohazul #mogimirim\\nhonda kodyve em mogi mirim oferecendo o melhor para você na compra do... https://t.co/rf91dksayf', '@nono_pereiraa ohh anda lá anjo!! a faísca e o simba iam gostar!!', '@duduzoeras faltou outro i e um c pra civic 😢', 'e o instagram voltou a ficar todo maluco ?', 'quando eu vender esse meu carro o proximo eh um civic si fodase', 'coloquei o civic 10 pra comer poeira na brasil 🤭', '@vicktres3 acho que o único corolla que vai bater de frente mesmo com o civic será o de 2020. o civic é outro mundo. um verdadeiro roborzão 😍👏👏', 'dá-me um @nono_pereiraa por favoorrrrr 🥰😂 https://t.co/nvkx5nvqpc', 'carro usado honda civic lxr aut. 2.0 flex - 2014 - resende/rj - ref:1937656 - r$ 53.900,00: vendo carro usado honda civic lxr aut. 2.0 flex - 2014 - r$ 53.900,00 - resende/rj - ref:1937656 https://t.co/aplhng8w2d', 'meu mestre de boxe , compro um civic , mt brabo', 'não sei se eu pego um civic ou um corola', 'adeus civic vai dxr sdd 💔', '@vessoni @denilsonshow @cesarfilho @ronaldo601 @antony00 @andrizek @carloscereto @fabiorabin @gustavohofman \\n\\ncorintiano:\\n\\ntrabalha no banco, anda de new civic, almoça no shopping..\\n\\npõe a camisa do corinthians e vira malandrao.', '@cleber_neris @operacoesrio acho q era um civic, pelo farol', 'meu mano tinha que acabar a bateria do civic bem na hora que eu ia para o shopping vc afff vsfd irmão', '@nono_pereiraa oh meu deus !!!\\ndame pf !!!', '@vulgofarol civic&gt;monzinha tubarao&gt;corolla', 'baixei um golinho do civic, já ficou no grauuuu 🤷🏼\\u200d♂️✔️', '@uolnoticias faltou o freio de mão eletrônico, pelo preço compensa o civic. o novo visual do corolla é fraco ainda. o novo sentra está mais bonito e mais equipado.', '@jn_tofaneli mas nao bateu no civic, ufa', '@nono_pereiraa sim claro', 'a parte péssima de ter o civic é achar as peças para reposição. 🤦🏽\\u200d♂️', '@nathans12561627 agora em, kkkkkkkkkkkkk curti por causa do civic 0,0', '@gusttavocjr na porra de um civic', 'bolsonaro participa de lançamento do programa nacional das escolas cívic... https://t.co/usvbqpx39z via @youtube', 'achei que civic não dava tanta manutenção', 'condor e nestlé sorteiam honda civic 0km: https://t.co/si3glwj7vi\\n\\n#condor #nestlé #promoção #honda #brindes #ofertasnaweb', '@vil4ca tinha um civic do meu lado mkkk', 'vamo começa c um jetta e um civic pq a gente é humilde 🤣🤣🤣🤣🤣', 'falo tanto que ia pegar civic pegar focus e pegou um corsa ? kkkkkkkkkkkkk — tua mãe também peguei kkkkk na boa mano eu pego o que eu quiser tlg só faz o teu se tu ganha tudo do papai e da mamãe, não sei faz oq tu quiser só virá g… https://t.co/lbusjmik76', '@jeannecaroline vai estragar a suspensao do civic novo', 'nao posso ver um golfao ou um civic no talo', '@willmikvel honda civic, é nóis meu rei', '@yurip0ntes e quem tem um civic coupé vtec tem tudo tb 😍', 'isso me lembra o favela quando jogou o honda civic dele dentro do rio kkkkkkkkkkkkkkkk https://t.co/lmyommkhfh', 'preciso de conhecer gente nova!', 'civic socado no chão! https://t.co/o5jqzv9oyd', 'honda civic lxr 2.0 2015\\n\\n. completo\\n. automatico\\n. periciado\\n. revisado\\n. com garantia por escrito\\n. manual e chave reserva\\n. freios abs\\n. airbag duplo\\n. rodas de liga leve\\n. bancos de couro\\n. top\\n. impecável\\n.… https://t.co/1i7fczkbjk', 'postei a foto do civic e já vieram umas 5 pessoas querendo comprar kkkk se eu vender essa porra essa semana vai se bom dms rs', 'xplanando a si próprio \\n\\n🔞matheus\\n🔞bom\\n🔞não\\n🔞na festa do colégio\\n🔞12\\n🔞alexandre\\n🔞13\\n🔞bom\\n🔞no carro\\n🔞nhm \\n🔞dentro de um honda civic preto\\n🔞simmm \\n🔞não \\n🔞depende sabe pessoa\\n🔞não \\n\\n mande um emoji que te mando na dm', 'depois de um role bem aleatório, vimos um acidente 🤦🏻\\u200d♀️ a mina bateu na árvore e deu perca totaaaal num honda civic 🤦🏻\\u200d♀️🤦🏻\\u200d♀️🤦🏻\\u200d♀️🤦🏻\\u200d♀️', '@henriquebrittoo já que um tem hornet e outro tem civic, é com vocês hoje então? 👀', 'e eu q tava cm o carro parado antes da lombada, tinha um civic branco perolado na frente eis q eu solto o freio e o unin da um bjin nele, só uma bitoquinha msm  (btf q minha placa enconstou)  nd aconteceu obvio mas aí já pensei ahhh pronto vai rolar um showzin aq na minha terça', 'van tomba após colisão com civic na região central https://t.co/oso1sbnlal', 'a lola falo gratilux pensei q parecia marca de óleo aí me veio na cabeça\\n\\nmaverick aspirado\\ncivic\\nnitro\\n\\nagr tô ouvindo rebaixei aro 16', 'e meu pai que apareceu com um honda civic aqui em casa do nada kkkkkkkkkkk', 'queria um civic, porém não tenho dinheiro https://t.co/ojhdxk5akn', 'com a chave do meu civic 2018', '@hukria sei la so mais um civic 95', 'pilotar na chuva é horrível, um civic ainda quase me jogou pro alto', 'ficou pronto meu civic turbo do velozes e furiosos', 'acabou pra concorrência... 16km/l na cidade... lembrando q cruze, jetta e civic estão todos na casa de 120k... checkmate dos japoneses https://t.co/u5tpiwa06x', '@flummi1970 honda civic. bj 1996! 😅', 'agora eu to de civic papai', 'nosa eu vou ficar é um nojo de civic touring kkkk', '@jessicatischer2 kkkkk por um honda civic', '@daniellmorais_ tá absurdo esse carro kkk veio pra bater com o civic', '@millenaceruti aí só os meninos com o civic parcelado em 68x pela viacredi', 'sonhei que ainda tinha o bora, o civic e a blazer na minha garagem kkk que doideira !! que sdd tbm ♥️', 'meu lanche veio do porto da madama pro coelho de honda civic, ubereats é braba mesmo 🤣🤦🏻\\u200d♂️', 'fav e dou te 4 motivos para pores a inicial de alguém \\n\\n1.l\\n2.b\\n3.i\\n4.p', '@civic_luis não te vou oferecer um animal que fazes dele o teu almoço 😱', '@av_andre13 civic não tem torque ein', 'civic é lindo demais', '@chemberg mais batalha que já teve foi cruze x civic', 'fico pensando o dia que a gente fizer um cd do bloco, todos guris do vt tem história com carro já \\n\\nvectra arranca placa do alban\\ncelta capotadão do luan\\ncivic leva pau do maranhão \\necosport pexadinha do pelika\\n\\nsó qualidade meus consagrado', 'pneu aro 16 importado, 205/55r16 para golf, civic ou corolla a partir de r$ 239,00 ou em até 10x sem juros!\\n\\naproveita e acelera pra velox pneus!\\n📲(34) 99119.9830\\n\\n#veloxpneus #pneubarato #pneu #ofertapneu #promoção #uberlândia #araguari #uberaba #revisão https://t.co/xnv6xrryab', 'o meu primeiro carro vai ser um honda civic de 92, tomem nota', '@flamengo @joaomercio eu comprei seu honda civic...jxi', '@civic_luis lá isso iam, ia dar um bom petisco', '@vicktres3 civic touring 1.5 turbo 2019 da pau fácil no corolla rs. ambos são lindos, porém prefiro civic', 'leilão eletrónico\\nencerramento: 16/09 às 17h00\\n\\nveiculo ligeiro de passageiros honda civic, com 273.357kms, do ano de 1994, em estado sucata, para abate, sem chaves, matrícula 91-25-ec\\n\\n+info: https://t.co/y0p00umkfw https://t.co/hzonmhuouz', 'vontade de comprar um civic', '@enzo_zbr qm é o civic?']\n",
      "499\n"
     ]
    }
   ],
   "source": [
    "#Cria um objeto para a captura\n",
    "api = tweepy.API(auth)\n",
    "\n",
    "#Inicia a captura, para mais detalhes: ver a documentação do tweepy\n",
    "i = 1\n",
    "msgs = []\n",
    "for msg in tweepy.Cursor(api.search, q=produto, lang=lang, tweet_mode=\"extended\").items():    \n",
    "    if msg.full_text.lower()[0] != 'r' and msg.full_text.lower()[1] != 't' and msg.full_text.lower()[2] != ' ':\n",
    "        msgs.append(msg.full_text.lower())\n",
    "        i += 1\n",
    "        if i > n:\n",
    "                break\n",
    "\n",
    "#Embaralhando as mensagens para reduzir um possível viés\n",
    "shuffle(msgs)\n",
    "print(msgs)\n",
    "msgs1 = list(set(msgs))\n",
    "print(len(msgs1))"
   ]
  },
  {
   "cell_type": "markdown",
   "metadata": {},
   "source": [
    "Salvando os dados em uma planilha Excel:"
   ]
  },
  {
   "cell_type": "code",
   "execution_count": 10,
   "metadata": {
    "jupyter": {
     "outputs_hidden": true
    }
   },
   "outputs": [],
   "source": [
    "#Verifica se o arquivo não existe para não substituir um conjunto pronto\n",
    "if not os.path.isfile('./{0}.xlsx'.format(produto)):\n",
    "    \n",
    "    #Abre o arquivo para escrita\n",
    "    writer = pd.ExcelWriter('{0}.xlsx'.format(produto))\n",
    "\n",
    "    #divide o conjunto de mensagens em duas planilhas\n",
    "    dft = pd.DataFrame({'Treinamento' : pd.Series(msgs1[:n])})\n",
    "    dft.to_excel(excel_writer = writer, sheet_name = 'Treinamento', index = False)\n",
    "\n",
    "    dfc = pd.DataFrame({'Teste' : pd.Series(msgs1[n:])})\n",
    "    dfc.to_excel(excel_writer = writer, sheet_name = 'Teste', index = False)\n",
    "\n",
    "    #fecha o arquivo\n",
    "    writer.save()\n",
    "\n",
    "\n"
   ]
  },
  {
   "cell_type": "markdown",
   "metadata": {},
   "source": [
    "___\n",
    "### Classificando as mensagens na coragem\n",
    "\n",
    "Esta etapa é manual. Faça a mesma pelo Excel."
   ]
  },
  {
   "cell_type": "code",
   "execution_count": null,
   "metadata": {},
   "outputs": [],
   "source": []
  },
  {
   "cell_type": "code",
   "execution_count": null,
   "metadata": {},
   "outputs": [],
   "source": []
  },
  {
   "cell_type": "code",
   "execution_count": null,
   "metadata": {},
   "outputs": [],
   "source": []
  },
  {
   "cell_type": "markdown",
   "metadata": {},
   "source": [
    "___\n",
    "### Montando o Classificador Naive-Bayes\n",
    "\n",
    "Considerando apenas as mensagens da planilha Treinamento, ensine  seu classificador."
   ]
  },
  {
   "cell_type": "code",
   "execution_count": null,
   "metadata": {},
   "outputs": [],
   "source": []
  },
  {
   "cell_type": "code",
   "execution_count": null,
   "metadata": {},
   "outputs": [],
   "source": []
  },
  {
   "cell_type": "code",
   "execution_count": null,
   "metadata": {},
   "outputs": [],
   "source": []
  },
  {
   "cell_type": "markdown",
   "metadata": {},
   "source": [
    "___\n",
    "### Verificando a performance\n",
    "\n",
    "Agora você deve testar o seu classificador com a base de Testes."
   ]
  },
  {
   "cell_type": "code",
   "execution_count": null,
   "metadata": {},
   "outputs": [],
   "source": []
  },
  {
   "cell_type": "code",
   "execution_count": null,
   "metadata": {},
   "outputs": [],
   "source": []
  },
  {
   "cell_type": "code",
   "execution_count": null,
   "metadata": {},
   "outputs": [],
   "source": []
  },
  {
   "cell_type": "markdown",
   "metadata": {},
   "source": [
    "___\n",
    "### Concluindo"
   ]
  },
  {
   "cell_type": "code",
   "execution_count": null,
   "metadata": {},
   "outputs": [],
   "source": []
  },
  {
   "cell_type": "code",
   "execution_count": null,
   "metadata": {},
   "outputs": [],
   "source": []
  },
  {
   "cell_type": "markdown",
   "metadata": {},
   "source": [
    "## Aperfeiçoamento:\n",
    "\n",
    "Os trabalhos vão evoluir em conceito dependendo da quantidade de itens avançados:\n",
    "\n",
    "* Limpar: \\n, :, \", ', (, ), etc SEM remover emojis\n",
    "* Corrigir separação de espaços entre palavras e emojis ou emojis e emojis\n",
    "* Propor outras limpezas e transformações que não afetem a qualidade da informação ou classificação\n",
    "* Criar categorias intermediárias de relevância baseadas na probabilidade: ex.: muito relevante, relevante, neutro, irrelevante, muito irrelevante (3 categorias: C, mais categorias conta para B)\n",
    "* Explicar por que não posso usar o próprio classificador para gerar mais amostras de treinamento\n",
    "* Propor diferentes cenários para Naïve Bayes fora do contexto do projeto\n",
    "* Sugerir e explicar melhorias reais com indicações concretas de como implementar (indicar como fazer e indicar material de pesquisa)\n",
    "* Montar um dashboard que periodicamente realiza análise de sentimento e visualiza estes dados"
   ]
  },
  {
   "cell_type": "markdown",
   "metadata": {},
   "source": [
    "# Referências"
   ]
  },
  {
   "cell_type": "markdown",
   "metadata": {},
   "source": [
    "[Naive Bayes and Text Classification](https://arxiv.org/pdf/1410.5329.pdf)  **Mais completo**\n",
    "\n",
    "[A practical explanation of a Naive Bayes Classifier](https://monkeylearn.com/blog/practical-explanation-naive-bayes-classifier/) **Mais simples**"
   ]
  },
  {
   "cell_type": "code",
   "execution_count": null,
   "metadata": {},
   "outputs": [],
   "source": []
  }
 ],
 "metadata": {
  "kernelspec": {
   "display_name": "Python 3",
   "language": "python",
   "name": "python3"
  },
  "language_info": {
   "codemirror_mode": {
    "name": "ipython",
    "version": 3
   },
   "file_extension": ".py",
   "mimetype": "text/x-python",
   "name": "python",
   "nbconvert_exporter": "python",
   "pygments_lexer": "ipython3",
   "version": "3.7.1"
  }
 },
 "nbformat": 4,
 "nbformat_minor": 4
}
